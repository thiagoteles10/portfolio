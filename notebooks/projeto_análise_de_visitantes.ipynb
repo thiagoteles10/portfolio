{
  "nbformat": 4,
  "nbformat_minor": 0,
  "metadata": {
    "colab": {
      "provenance": [],
      "collapsed_sections": [
        "WP7VtGsBsQ7Z",
        "ZxA1HDWOv3vY"
      ]
    },
    "kernelspec": {
      "name": "python3",
      "display_name": "Python 3"
    },
    "language_info": {
      "name": "python"
    }
  },
  "cells": [
    {
      "cell_type": "markdown",
      "source": [
        "# Etapa 1 - Entendendo o Problema\n",
        "\n",
        "---\n",
        "\n",
        "- Problema - Você foi contratato pela Multiplan (Administradora de Shoppings Centers) como Analista de Dados. A sua primeira tarefa é gerar insights que ajudem os administradores a ter uma visão geral sobre os visitantes do shopping, com base na renda e score.\n",
        "- Quais perguntas podemos responder?\n",
        "\n",
        "- Quais perguntas podemos responder?\n",
        "    - [x]  Quantos visitantes existem no conjunto de dados disponilizado?\n",
        "    - [x]  Desses visitantes quantos são masculino e feminino?\n",
        "    - [x]  Como a idade se distribui entre os visitantes?\n",
        "    - [x]  Como a renda se distribui entre os visitantes?\n",
        "    - [x]  Como o score se distribui entre os visitantes?\n",
        "    - [x]  Como as variáveis se relacionam entre si?\n",
        "    - [x]  Como a idade varia em relação ao gênero?\n",
        "    - [ ]  Como a renda varia em relação ao gênero?\n",
        "    - [ ]  Como a renda varia em relação ao idade?"
      ],
      "metadata": {
        "id": "Zi50tsMRfocU"
      }
    },
    {
      "cell_type": "markdown",
      "source": [
        "# Importando bibliotecas"
      ],
      "metadata": {
        "id": "mXT3Bf4xf3AQ"
      }
    },
    {
      "cell_type": "code",
      "source": [
        "# Biblioteca para análise de dados\n",
        "import pandas as pd\n",
        "\n",
        "#Biblioteca para visualização de dados\n",
        "import matplotlib.pyplot as plt\n",
        "import seaborn as sns"
      ],
      "metadata": {
        "id": "_s_Y1F8Lb5ue"
      },
      "execution_count": null,
      "outputs": []
    },
    {
      "cell_type": "code",
      "source": [
        "import warnings\n",
        "warnings.filterwarnings('ignore')"
      ],
      "metadata": {
        "id": "BADf1SXK473o"
      },
      "execution_count": null,
      "outputs": []
    },
    {
      "cell_type": "markdown",
      "source": [
        "# Etapa 2 - Coletando os Dados\n",
        "\n",
        "---\n",
        "\n",
        "- Um profissional da área de dados realizou a extração dos dados diretamente do Banco e forneceu a você um dataset no formato csv contendo variáveis importantes e que podem ser úteis para responder essas perguntas.\n",
        "    - CustomerID - Identificação do Visitante\n",
        "    - Genre - Gênero do Visitante\n",
        "    - Age - Idade do Visitante\n",
        "    - Annual Income (kR$) - Renda anual do visitante\n",
        "    - Spending Score (1-100) - Score do Visitante"
      ],
      "metadata": {
        "id": "It8UMEG-f9p6"
      }
    },
    {
      "cell_type": "code",
      "execution_count": null,
      "metadata": {
        "id": "bV32cqgsbZRF"
      },
      "outputs": [],
      "source": [
        "\n",
        "df = pd.read_csv('clientes_shopping.csv')\n",
        "df\n",
        "\n"
      ]
    },
    {
      "cell_type": "code",
      "source": [
        "# PEGANDOS TODAS AS INFORMAÇÕES DO DATAFRAME COMO RANGE E COLUMNS.\n",
        "# VEMOS AQUI QUE NÃO HÁ DADOS FALTANTES.\n",
        "\n",
        "df.info()"
      ],
      "metadata": {
        "id": "oD_qa6NyedFM"
      },
      "execution_count": null,
      "outputs": []
    },
    {
      "cell_type": "code",
      "source": [
        "# AGORA VAMOS RENOMEAR AS COLUNAS NO PANDAS PARA FACILITAR A VISUALIZAÇÃO\n",
        "\n",
        "df.rename(columns={'CustomerID': 'Id', 'Genre': 'Genero', 'Age': 'Idade', 'Annual Income (k$)': 'Renda Anual (k$)', 'Spending Score (1-100)': 'Score'}, inplace = True)"
      ],
      "metadata": {
        "id": "a63zAdZShWgH"
      },
      "execution_count": null,
      "outputs": []
    },
    {
      "cell_type": "code",
      "source": [
        "# VENDO O NÚMERO DE LINHAS E COLUNAS DE UM DATAFRAME\n",
        "\n",
        "linhas, colunas = df.shape  # fazendo um unpack de uma tupla\n",
        "print(f'número de linhas é = {linhas} e colunas é igual = {colunas} ')"
      ],
      "metadata": {
        "id": "HcZ3X6QwifST"
      },
      "execution_count": null,
      "outputs": []
    },
    {
      "cell_type": "markdown",
      "source": [
        "## Informações estatísticas"
      ],
      "metadata": {
        "id": "RewO1cuYoZ1F"
      }
    },
    {
      "cell_type": "code",
      "source": [
        "# VERIFICANDO AS INFORMAÇÕES ESTATÍSTICAS DE UM DF\n",
        "\n",
        "df.describe().round(2)   # o round() serve para arredondadar o número de zeros para a quantidade escolhida\n"
      ],
      "metadata": {
        "id": "kqLR1ZsTj2WG"
      },
      "execution_count": null,
      "outputs": []
    },
    {
      "cell_type": "code",
      "source": [
        "# REMOVENDO COLUNAS DE UM DATAFRAME\n",
        "\n",
        "df.drop(columns='Id', inplace= True )\n"
      ],
      "metadata": {
        "id": "uLrqbbqegNxC"
      },
      "execution_count": null,
      "outputs": []
    },
    {
      "cell_type": "markdown",
      "source": [
        "## Verificando se há valores faltantes no dataframe"
      ],
      "metadata": {
        "id": "5leiocf_pD9J"
      }
    },
    {
      "cell_type": "code",
      "source": [
        "df.isnull().sum()  # a soma dos valores faltantes é zero para todas as colunas"
      ],
      "metadata": {
        "colab": {
          "base_uri": "https://localhost:8080/"
        },
        "id": "o4o9f2SepDgW",
        "outputId": "27b0902c-cf2b-406c-c352-8a409d687f8a"
      },
      "execution_count": null,
      "outputs": [
        {
          "output_type": "execute_result",
          "data": {
            "text/plain": [
              "Genero              0\n",
              "Idade               0\n",
              "Renda Anual (k$)    0\n",
              "Score               0\n",
              "dtype: int64"
            ]
          },
          "metadata": {},
          "execution_count": 26
        }
      ]
    },
    {
      "cell_type": "markdown",
      "source": [
        "## Duplicatas"
      ],
      "metadata": {
        "id": "7GfkcnUEqE42"
      }
    },
    {
      "cell_type": "code",
      "source": [
        "df[df.duplicated()]  # se houvesse algum valor duplicado, apareceria embaixo das colunas"
      ],
      "metadata": {
        "colab": {
          "base_uri": "https://localhost:8080/",
          "height": 49
        },
        "id": "b8J62DEUhty_",
        "outputId": "08e6f18b-1f4d-4f4f-b21a-7300c8ebf1b9"
      },
      "execution_count": null,
      "outputs": [
        {
          "output_type": "execute_result",
          "data": {
            "text/plain": [
              "Empty DataFrame\n",
              "Columns: [Genero, Idade, Renda Anual (k$), Score]\n",
              "Index: []"
            ],
            "text/html": [
              "\n",
              "  <div id=\"df-0ac142b5-0ff4-4cfd-b2b8-1ca0a647a235\">\n",
              "    <div class=\"colab-df-container\">\n",
              "      <div>\n",
              "<style scoped>\n",
              "    .dataframe tbody tr th:only-of-type {\n",
              "        vertical-align: middle;\n",
              "    }\n",
              "\n",
              "    .dataframe tbody tr th {\n",
              "        vertical-align: top;\n",
              "    }\n",
              "\n",
              "    .dataframe thead th {\n",
              "        text-align: right;\n",
              "    }\n",
              "</style>\n",
              "<table border=\"1\" class=\"dataframe\">\n",
              "  <thead>\n",
              "    <tr style=\"text-align: right;\">\n",
              "      <th></th>\n",
              "      <th>Genero</th>\n",
              "      <th>Idade</th>\n",
              "      <th>Renda Anual (k$)</th>\n",
              "      <th>Score</th>\n",
              "    </tr>\n",
              "  </thead>\n",
              "  <tbody>\n",
              "  </tbody>\n",
              "</table>\n",
              "</div>\n",
              "      <button class=\"colab-df-convert\" onclick=\"convertToInteractive('df-0ac142b5-0ff4-4cfd-b2b8-1ca0a647a235')\"\n",
              "              title=\"Convert this dataframe to an interactive table.\"\n",
              "              style=\"display:none;\">\n",
              "        \n",
              "  <svg xmlns=\"http://www.w3.org/2000/svg\" height=\"24px\"viewBox=\"0 0 24 24\"\n",
              "       width=\"24px\">\n",
              "    <path d=\"M0 0h24v24H0V0z\" fill=\"none\"/>\n",
              "    <path d=\"M18.56 5.44l.94 2.06.94-2.06 2.06-.94-2.06-.94-.94-2.06-.94 2.06-2.06.94zm-11 1L8.5 8.5l.94-2.06 2.06-.94-2.06-.94L8.5 2.5l-.94 2.06-2.06.94zm10 10l.94 2.06.94-2.06 2.06-.94-2.06-.94-.94-2.06-.94 2.06-2.06.94z\"/><path d=\"M17.41 7.96l-1.37-1.37c-.4-.4-.92-.59-1.43-.59-.52 0-1.04.2-1.43.59L10.3 9.45l-7.72 7.72c-.78.78-.78 2.05 0 2.83L4 21.41c.39.39.9.59 1.41.59.51 0 1.02-.2 1.41-.59l7.78-7.78 2.81-2.81c.8-.78.8-2.07 0-2.86zM5.41 20L4 18.59l7.72-7.72 1.47 1.35L5.41 20z\"/>\n",
              "  </svg>\n",
              "      </button>\n",
              "      \n",
              "  <style>\n",
              "    .colab-df-container {\n",
              "      display:flex;\n",
              "      flex-wrap:wrap;\n",
              "      gap: 12px;\n",
              "    }\n",
              "\n",
              "    .colab-df-convert {\n",
              "      background-color: #E8F0FE;\n",
              "      border: none;\n",
              "      border-radius: 50%;\n",
              "      cursor: pointer;\n",
              "      display: none;\n",
              "      fill: #1967D2;\n",
              "      height: 32px;\n",
              "      padding: 0 0 0 0;\n",
              "      width: 32px;\n",
              "    }\n",
              "\n",
              "    .colab-df-convert:hover {\n",
              "      background-color: #E2EBFA;\n",
              "      box-shadow: 0px 1px 2px rgba(60, 64, 67, 0.3), 0px 1px 3px 1px rgba(60, 64, 67, 0.15);\n",
              "      fill: #174EA6;\n",
              "    }\n",
              "\n",
              "    [theme=dark] .colab-df-convert {\n",
              "      background-color: #3B4455;\n",
              "      fill: #D2E3FC;\n",
              "    }\n",
              "\n",
              "    [theme=dark] .colab-df-convert:hover {\n",
              "      background-color: #434B5C;\n",
              "      box-shadow: 0px 1px 3px 1px rgba(0, 0, 0, 0.15);\n",
              "      filter: drop-shadow(0px 1px 2px rgba(0, 0, 0, 0.3));\n",
              "      fill: #FFFFFF;\n",
              "    }\n",
              "  </style>\n",
              "\n",
              "      <script>\n",
              "        const buttonEl =\n",
              "          document.querySelector('#df-0ac142b5-0ff4-4cfd-b2b8-1ca0a647a235 button.colab-df-convert');\n",
              "        buttonEl.style.display =\n",
              "          google.colab.kernel.accessAllowed ? 'block' : 'none';\n",
              "\n",
              "        async function convertToInteractive(key) {\n",
              "          const element = document.querySelector('#df-0ac142b5-0ff4-4cfd-b2b8-1ca0a647a235');\n",
              "          const dataTable =\n",
              "            await google.colab.kernel.invokeFunction('convertToInteractive',\n",
              "                                                     [key], {});\n",
              "          if (!dataTable) return;\n",
              "\n",
              "          const docLinkHtml = 'Like what you see? Visit the ' +\n",
              "            '<a target=\"_blank\" href=https://colab.research.google.com/notebooks/data_table.ipynb>data table notebook</a>'\n",
              "            + ' to learn more about interactive tables.';\n",
              "          element.innerHTML = '';\n",
              "          dataTable['output_type'] = 'display_data';\n",
              "          await google.colab.output.renderOutput(dataTable, element);\n",
              "          const docLink = document.createElement('div');\n",
              "          docLink.innerHTML = docLinkHtml;\n",
              "          element.appendChild(docLink);\n",
              "        }\n",
              "      </script>\n",
              "    </div>\n",
              "  </div>\n",
              "  "
            ]
          },
          "metadata": {},
          "execution_count": 27
        }
      ]
    },
    {
      "cell_type": "markdown",
      "source": [
        "## Gênero do visitante do shopping"
      ],
      "metadata": {
        "id": "WP7VtGsBsQ7Z"
      }
    },
    {
      "cell_type": "code",
      "source": [
        "# \n",
        "df['Genero'].nunique()  # para verificar o número de valores únicos, no caso dois valores"
      ],
      "metadata": {
        "colab": {
          "base_uri": "https://localhost:8080/"
        },
        "id": "nvJp8gI_sgAk",
        "outputId": "c6601cde-37d5-4878-b940-00e4abde62a9"
      },
      "execution_count": null,
      "outputs": [
        {
          "output_type": "execute_result",
          "data": {
            "text/plain": [
              "2"
            ]
          },
          "metadata": {},
          "execution_count": 28
        }
      ]
    },
    {
      "cell_type": "code",
      "source": [
        "df['Genero'].unique() # fala quais são esses dois valores dentro do gênero"
      ],
      "metadata": {
        "colab": {
          "base_uri": "https://localhost:8080/"
        },
        "id": "XaQ5PnkltQHJ",
        "outputId": "5ad9aff6-fb08-49cf-c790-e8c1511f53f8"
      },
      "execution_count": null,
      "outputs": [
        {
          "output_type": "execute_result",
          "data": {
            "text/plain": [
              "array(['Male', 'Female'], dtype=object)"
            ]
          },
          "metadata": {},
          "execution_count": 29
        }
      ]
    },
    {
      "cell_type": "markdown",
      "source": [
        "## Trocando os nomes das linhas da coluna Genero"
      ],
      "metadata": {
        "id": "Tosb_yU-u-8J"
      }
    },
    {
      "cell_type": "code",
      "source": [
        "df['Genero'] = df['Genero'].replace(['Male'], 'Masculino')\n",
        "df['Genero'] = df['Genero'].replace(['Female'], 'Feminino')"
      ],
      "metadata": {
        "id": "OdkMXFqAt7Fg"
      },
      "execution_count": null,
      "outputs": []
    },
    {
      "cell_type": "code",
      "source": [
        "df.head()"
      ],
      "metadata": {
        "id": "3Rlu1xJruuI0"
      },
      "execution_count": null,
      "outputs": []
    },
    {
      "cell_type": "markdown",
      "source": [
        "## Desses visitantes quantos são do sexo masculino e quantos são do sexo feminino"
      ],
      "metadata": {
        "id": "ZxA1HDWOv3vY"
      }
    },
    {
      "cell_type": "code",
      "source": [
        "df['Genero'].value_counts()"
      ],
      "metadata": {
        "colab": {
          "base_uri": "https://localhost:8080/"
        },
        "id": "rtLBoCmnv_YF",
        "outputId": "bc18b4c7-48f6-49f3-91bb-bc8bc4b20c61"
      },
      "execution_count": null,
      "outputs": [
        {
          "output_type": "execute_result",
          "data": {
            "text/plain": [
              "Feminino     112\n",
              "Masculino     88\n",
              "Name: Genero, dtype: int64"
            ]
          },
          "metadata": {},
          "execution_count": 36
        }
      ]
    },
    {
      "cell_type": "markdown",
      "source": [
        "## Visualizando essa informação através de um gráfico"
      ],
      "metadata": {
        "id": "5bU-VoNowUwd"
      }
    },
    {
      "cell_type": "code",
      "source": [
        "plt.figure(figsize=(10, 5))\n",
        "plt.title('Visitantes do Shopping por Gênero\\n ', fontsize=18, color='blue')\n",
        "plt.xlabel('Genero', fontsize=15)\n",
        "plt.ylabel('Contagem de visitantes', fontsize=15, color='blue')\n",
        "sns.countplot(df['Genero'])\n",
        "plt.show()"
      ],
      "metadata": {
        "colab": {
          "base_uri": "https://localhost:8080/",
          "height": 380
        },
        "id": "tRetvyXOxfpa",
        "outputId": "87f67feb-8883-4654-dd79-6b548ed1e2c0"
      },
      "execution_count": null,
      "outputs": [
        {
          "output_type": "display_data",
          "data": {
            "text/plain": [
              "<Figure size 720x360 with 1 Axes>"
            ],
            "image/png": "[encoded data removed]"
          },
          "metadata": {
            "needs_background": "light"
          }
        }
      ]
    },
    {
      "cell_type": "markdown",
      "source": [
        "Os clientes do sexo feminino são maiores que os do sexo masculino"
      ],
      "metadata": {
        "id": "5j8U0iAq56d2"
      }
    },
    {
      "cell_type": "markdown",
      "source": [
        "## Eliminando a coluna Id do dataframe"
      ],
      "metadata": {
        "id": "6PrfAF_-9rd1"
      }
    },
    {
      "cell_type": "code",
      "source": [
        "df.drop(colums='Id', inplace=True)"
      ],
      "metadata": {
        "id": "RMOtQgPR9Z9Y"
      },
      "execution_count": null,
      "outputs": []
    },
    {
      "cell_type": "markdown",
      "source": [
        "## Idade - Idade Do Visitante"
      ],
      "metadata": {
        "id": "fshOiNCF-j81"
      }
    },
    {
      "cell_type": "code",
      "source": [
        "df['Idade'].nunique()"
      ],
      "metadata": {
        "id": "77wrvcjx_LRT"
      },
      "execution_count": null,
      "outputs": []
    },
    {
      "cell_type": "code",
      "source": [
        "df['Idade'].unique()"
      ],
      "metadata": {
        "id": "bFARLRsw-0GC"
      },
      "execution_count": null,
      "outputs": []
    },
    {
      "cell_type": "code",
      "source": [
        "df['Idade'].value_counts()"
      ],
      "metadata": {
        "id": "tNuySRzg_orU"
      },
      "execution_count": null,
      "outputs": []
    },
    {
      "cell_type": "code",
      "source": [
        "df['Idade'].describe().round(1)"
      ],
      "metadata": {
        "id": "JvMl5Nd4AoO_"
      },
      "execution_count": null,
      "outputs": []
    },
    {
      "cell_type": "code",
      "source": [
        "plt.figure(figsize=(15, 5))\n",
        "plt.title('Distribuição da Idade\\n ', fontsize=18, color='blue')\n",
        "plt.xlabel('Variação da Idade', fontsize=15)\n",
        "plt.ylabel('Densidade', fontsize=15, color='blue')\n",
        "sns.distplot(df['Idade'])\n",
        "plt.show()"
      ],
      "metadata": {
        "colab": {
          "base_uri": "https://localhost:8080/",
          "height": 379
        },
        "id": "frZ01cDjBLm_",
        "outputId": "246bf271-539f-4db6-cadd-06afb5db09eb"
      },
      "execution_count": null,
      "outputs": [
        {
          "output_type": "display_data",
          "data": {
            "text/plain": [
              "<Figure size 1080x360 with 1 Axes>"
            ],
            "image/png": "[encoded data removed]"
          },
          "metadata": {
            "needs_background": "light"
          }
        }
      ]
    },
    {
      "cell_type": "markdown",
      "source": [
        "## Como a renda se distribui entre os visitantes"
      ],
      "metadata": {
        "id": "TNOA7WWZDRiK"
      }
    },
    {
      "cell_type": "code",
      "source": [
        "df['Renda Anual (k$)'].value_counts()"
      ],
      "metadata": {
        "id": "geXAbKEVEnkz"
      },
      "execution_count": null,
      "outputs": []
    },
    {
      "cell_type": "code",
      "source": [
        "plt.figure(figsize=(10,5))\n",
        "sns.boxplot(data=df, y='Renda Anual (k$)');"
      ],
      "metadata": {
        "colab": {
          "base_uri": "https://localhost:8080/",
          "height": 306
        },
        "id": "ZO9zejcKF93_",
        "outputId": "4c86527c-5d05-4b96-a0ea-489b6e82bfef"
      },
      "execution_count": null,
      "outputs": [
        {
          "output_type": "display_data",
          "data": {
            "text/plain": [
              "<Figure size 720x360 with 1 Axes>"
            ],
            "image/png": "[encoded data removed]"
          },
          "metadata": {
            "needs_background": "light"
          }
        }
      ]
    },
    {
      "cell_type": "code",
      "source": [
        "plt.figure(figsize=(15, 5))\n",
        "plt.title('Renda anual por visitante\\n ', fontsize=18, color='blue')\n",
        "plt.xlabel('Distribuição da renda', fontsize=15)\n",
        "plt.ylabel('Renda Anual (k$)', fontsize=15, color='blue')\n",
        "sns.distplot(df['Renda Anual (k$)'])\n",
        "plt.show()"
      ],
      "metadata": {
        "colab": {
          "base_uri": "https://localhost:8080/",
          "height": 379
        },
        "id": "_FtydEwXG9_1",
        "outputId": "7e29f28a-9985-4e77-87a9-199963674512"
      },
      "execution_count": null,
      "outputs": [
        {
          "output_type": "display_data",
          "data": {
            "text/plain": [
              "<Figure size 1080x360 with 1 Axes>"
            ],
            "image/png": "[encoded data removed]"
          },
          "metadata": {
            "needs_background": "light"
          }
        }
      ]
    },
    {
      "cell_type": "markdown",
      "source": [
        "A maior parte da renda fica entre 50k e 80k"
      ],
      "metadata": {
        "id": "cINkYUaeMRYs"
      }
    },
    {
      "cell_type": "markdown",
      "source": [
        "## Como o Score se distribui entre os visitantes"
      ],
      "metadata": {
        "id": "yLQSjgNOMs0a"
      }
    },
    {
      "cell_type": "code",
      "source": [
        "df['Score'].nunique()"
      ],
      "metadata": {
        "id": "7Qvoho9PM-Jn"
      },
      "execution_count": null,
      "outputs": []
    },
    {
      "cell_type": "code",
      "source": [
        "df['Score'].unique()"
      ],
      "metadata": {
        "id": "xwAgyWpcObld"
      },
      "execution_count": null,
      "outputs": []
    },
    {
      "cell_type": "code",
      "source": [
        "df['Score'].describe().round(1)"
      ],
      "metadata": {
        "colab": {
          "base_uri": "https://localhost:8080/"
        },
        "id": "IqwzMcBVOmgW",
        "outputId": "b532982a-f7bb-49b6-ba9a-1589348c3ca3"
      },
      "execution_count": null,
      "outputs": [
        {
          "output_type": "execute_result",
          "data": {
            "text/plain": [
              "count    200.0\n",
              "mean      50.2\n",
              "std       25.8\n",
              "min        1.0\n",
              "25%       34.8\n",
              "50%       50.0\n",
              "75%       73.0\n",
              "max       99.0\n",
              "Name: Score, dtype: float64"
            ]
          },
          "metadata": {},
          "execution_count": 37
        }
      ]
    },
    {
      "cell_type": "code",
      "source": [
        "# VERIFICANDO SE EXISTEM OUTLIERS - NÃO EXISTEM VALORES DISCREPANTES\n",
        "plt.figure(figsize=(10,5))\n",
        "sns.boxplot(data=df, y='Score');"
      ],
      "metadata": {
        "colab": {
          "base_uri": "https://localhost:8080/",
          "height": 306
        },
        "id": "vuj4_MDBPNvs",
        "outputId": "9419e540-fa1e-42b3-ab0d-0d5b25c7ea9e"
      },
      "execution_count": null,
      "outputs": [
        {
          "output_type": "display_data",
          "data": {
            "text/plain": [
              "<Figure size 720x360 with 1 Axes>"
            ],
            "image/png": "[encoded data removed]"
          },
          "metadata": {
            "needs_background": "light"
          }
        }
      ]
    },
    {
      "cell_type": "code",
      "source": [
        "plt.figure(figsize=(15, 5))\n",
        "plt.title('Score por visitante\\n ', fontsize=18, color='blue')\n",
        "plt.xlabel('Score(1-100)', fontsize=15)\n",
        "plt.ylabel('Densidade', fontsize=15, color='blue')\n",
        "sns.distplot(df['Score'])\n",
        "plt.show()"
      ],
      "metadata": {
        "colab": {
          "base_uri": "https://localhost:8080/",
          "height": 379
        },
        "id": "ZEO70sHIP3b1",
        "outputId": "adc7ce9a-661e-4988-9641-55f1448cdc76"
      },
      "execution_count": null,
      "outputs": [
        {
          "output_type": "display_data",
          "data": {
            "text/plain": [
              "<Figure size 1080x360 with 1 Axes>"
            ],
            "image/png": "[encoded data removed]"
          },
          "metadata": {
            "needs_background": "light"
          }
        }
      ]
    },
    {
      "cell_type": "markdown",
      "source": [
        "## A maioria das pessoas tem o Score entre 40 e 60"
      ],
      "metadata": {
        "id": "IMiYx_YXQajP"
      }
    },
    {
      "cell_type": "markdown",
      "source": [
        "## Como as variáveis se relacionam entre si"
      ],
      "metadata": {
        "id": "BxENusioRTb_"
      }
    },
    {
      "cell_type": "code",
      "source": [
        "df.corr()"
      ],
      "metadata": {
        "colab": {
          "base_uri": "https://localhost:8080/",
          "height": 175
        },
        "id": "AZnzZEZ-RX5t",
        "outputId": "1d37c468-069a-459a-e70e-7b3e5f318b30"
      },
      "execution_count": null,
      "outputs": [
        {
          "output_type": "execute_result",
          "data": {
            "text/plain": [
              "                        Id     Idade  Renda Anual (k$)     Score\n",
              "Id                1.000000 -0.026763          0.977548  0.013835\n",
              "Idade            -0.026763  1.000000         -0.012398 -0.327227\n",
              "Renda Anual (k$)  0.977548 -0.012398          1.000000  0.009903\n",
              "Score             0.013835 -0.327227          0.009903  1.000000"
            ],
            "text/html": [
              "\n",
              "  <div id=\"df-54b583d5-c327-428f-9152-21151884d945\">\n",
              "    <div class=\"colab-df-container\">\n",
              "      <div>\n",
              "<style scoped>\n",
              "    .dataframe tbody tr th:only-of-type {\n",
              "        vertical-align: middle;\n",
              "    }\n",
              "\n",
              "    .dataframe tbody tr th {\n",
              "        vertical-align: top;\n",
              "    }\n",
              "\n",
              "    .dataframe thead th {\n",
              "        text-align: right;\n",
              "    }\n",
              "</style>\n",
              "<table border=\"1\" class=\"dataframe\">\n",
              "  <thead>\n",
              "    <tr style=\"text-align: right;\">\n",
              "      <th></th>\n",
              "      <th>Id</th>\n",
              "      <th>Idade</th>\n",
              "      <th>Renda Anual (k$)</th>\n",
              "      <th>Score</th>\n",
              "    </tr>\n",
              "  </thead>\n",
              "  <tbody>\n",
              "    <tr>\n",
              "      <th>Id</th>\n",
              "      <td>1.000000</td>\n",
              "      <td>-0.026763</td>\n",
              "      <td>0.977548</td>\n",
              "      <td>0.013835</td>\n",
              "    </tr>\n",
              "    <tr>\n",
              "      <th>Idade</th>\n",
              "      <td>-0.026763</td>\n",
              "      <td>1.000000</td>\n",
              "      <td>-0.012398</td>\n",
              "      <td>-0.327227</td>\n",
              "    </tr>\n",
              "    <tr>\n",
              "      <th>Renda Anual (k$)</th>\n",
              "      <td>0.977548</td>\n",
              "      <td>-0.012398</td>\n",
              "      <td>1.000000</td>\n",
              "      <td>0.009903</td>\n",
              "    </tr>\n",
              "    <tr>\n",
              "      <th>Score</th>\n",
              "      <td>0.013835</td>\n",
              "      <td>-0.327227</td>\n",
              "      <td>0.009903</td>\n",
              "      <td>1.000000</td>\n",
              "    </tr>\n",
              "  </tbody>\n",
              "</table>\n",
              "</div>\n",
              "      <button class=\"colab-df-convert\" onclick=\"convertToInteractive('df-54b583d5-c327-428f-9152-21151884d945')\"\n",
              "              title=\"Convert this dataframe to an interactive table.\"\n",
              "              style=\"display:none;\">\n",
              "        \n",
              "  <svg xmlns=\"http://www.w3.org/2000/svg\" height=\"24px\"viewBox=\"0 0 24 24\"\n",
              "       width=\"24px\">\n",
              "    <path d=\"M0 0h24v24H0V0z\" fill=\"none\"/>\n",
              "    <path d=\"M18.56 5.44l.94 2.06.94-2.06 2.06-.94-2.06-.94-.94-2.06-.94 2.06-2.06.94zm-11 1L8.5 8.5l.94-2.06 2.06-.94-2.06-.94L8.5 2.5l-.94 2.06-2.06.94zm10 10l.94 2.06.94-2.06 2.06-.94-2.06-.94-.94-2.06-.94 2.06-2.06.94z\"/><path d=\"M17.41 7.96l-1.37-1.37c-.4-.4-.92-.59-1.43-.59-.52 0-1.04.2-1.43.59L10.3 9.45l-7.72 7.72c-.78.78-.78 2.05 0 2.83L4 21.41c.39.39.9.59 1.41.59.51 0 1.02-.2 1.41-.59l7.78-7.78 2.81-2.81c.8-.78.8-2.07 0-2.86zM5.41 20L4 18.59l7.72-7.72 1.47 1.35L5.41 20z\"/>\n",
              "  </svg>\n",
              "      </button>\n",
              "      \n",
              "  <style>\n",
              "    .colab-df-container {\n",
              "      display:flex;\n",
              "      flex-wrap:wrap;\n",
              "      gap: 12px;\n",
              "    }\n",
              "\n",
              "    .colab-df-convert {\n",
              "      background-color: #E8F0FE;\n",
              "      border: none;\n",
              "      border-radius: 50%;\n",
              "      cursor: pointer;\n",
              "      display: none;\n",
              "      fill: #1967D2;\n",
              "      height: 32px;\n",
              "      padding: 0 0 0 0;\n",
              "      width: 32px;\n",
              "    }\n",
              "\n",
              "    .colab-df-convert:hover {\n",
              "      background-color: #E2EBFA;\n",
              "      box-shadow: 0px 1px 2px rgba(60, 64, 67, 0.3), 0px 1px 3px 1px rgba(60, 64, 67, 0.15);\n",
              "      fill: #174EA6;\n",
              "    }\n",
              "\n",
              "    [theme=dark] .colab-df-convert {\n",
              "      background-color: #3B4455;\n",
              "      fill: #D2E3FC;\n",
              "    }\n",
              "\n",
              "    [theme=dark] .colab-df-convert:hover {\n",
              "      background-color: #434B5C;\n",
              "      box-shadow: 0px 1px 3px 1px rgba(0, 0, 0, 0.15);\n",
              "      filter: drop-shadow(0px 1px 2px rgba(0, 0, 0, 0.3));\n",
              "      fill: #FFFFFF;\n",
              "    }\n",
              "  </style>\n",
              "\n",
              "      <script>\n",
              "        const buttonEl =\n",
              "          document.querySelector('#df-54b583d5-c327-428f-9152-21151884d945 button.colab-df-convert');\n",
              "        buttonEl.style.display =\n",
              "          google.colab.kernel.accessAllowed ? 'block' : 'none';\n",
              "\n",
              "        async function convertToInteractive(key) {\n",
              "          const element = document.querySelector('#df-54b583d5-c327-428f-9152-21151884d945');\n",
              "          const dataTable =\n",
              "            await google.colab.kernel.invokeFunction('convertToInteractive',\n",
              "                                                     [key], {});\n",
              "          if (!dataTable) return;\n",
              "\n",
              "          const docLinkHtml = 'Like what you see? Visit the ' +\n",
              "            '<a target=\"_blank\" href=https://colab.research.google.com/notebooks/data_table.ipynb>data table notebook</a>'\n",
              "            + ' to learn more about interactive tables.';\n",
              "          element.innerHTML = '';\n",
              "          dataTable['output_type'] = 'display_data';\n",
              "          await google.colab.output.renderOutput(dataTable, element);\n",
              "          const docLink = document.createElement('div');\n",
              "          docLink.innerHTML = docLinkHtml;\n",
              "          element.appendChild(docLink);\n",
              "        }\n",
              "      </script>\n",
              "    </div>\n",
              "  </div>\n",
              "  "
            ]
          },
          "metadata": {},
          "execution_count": 38
        }
      ]
    },
    {
      "cell_type": "code",
      "source": [
        "plt.figure(figsize=(15,7))\n",
        "sns.heatmap(df.corr(), cmap='Blues', annot=True, linewidth=3);"
      ],
      "metadata": {
        "colab": {
          "base_uri": "https://localhost:8080/",
          "height": 432
        },
        "id": "XcicYCo2TIk2",
        "outputId": "ac60ab23-f622-4c62-cc80-56ccc6f344d5"
      },
      "execution_count": null,
      "outputs": [
        {
          "output_type": "display_data",
          "data": {
            "text/plain": [
              "<Figure size 1080x504 with 2 Axes>"
            ],
            "image/png": "[encoded data removed]"
          },
          "metadata": {
            "needs_background": "light"
          }
        }
      ]
    },
    {
      "cell_type": "markdown",
      "source": [
        "## Como a idade varia em relação ao gênero"
      ],
      "metadata": {
        "id": "h8JJcmREVCBZ"
      }
    },
    {
      "cell_type": "code",
      "source": [
        "df.groupby('Genero')['Idade'].mean()"
      ],
      "metadata": {
        "colab": {
          "base_uri": "https://localhost:8080/"
        },
        "id": "a2Nw9YmtVHzj",
        "outputId": "8d825ab8-bc91-4713-997c-c83c7f6c5688"
      },
      "execution_count": null,
      "outputs": [
        {
          "output_type": "execute_result",
          "data": {
            "text/plain": [
              "Genero\n",
              "Feminino     38.098214\n",
              "Masculino    39.806818\n",
              "Name: Idade, dtype: float64"
            ]
          },
          "metadata": {},
          "execution_count": 44
        }
      ]
    },
    {
      "cell_type": "code",
      "source": [
        "plt.figure(figsize=(10,7))\n",
        "sns.boxplot(x='Genero', y='Idade', data=df);\n",
        "plt.show()"
      ],
      "metadata": {
        "colab": {
          "base_uri": "https://localhost:8080/",
          "height": 442
        },
        "id": "8kJ-EpdKcCsk",
        "outputId": "4c5ee987-bf35-4b6d-978b-c5f197f19a61"
      },
      "execution_count": null,
      "outputs": [
        {
          "output_type": "display_data",
          "data": {
            "text/plain": [
              "<Figure size 720x504 with 1 Axes>"
            ],
            "image/png": "[encoded data removed]"
          },
          "metadata": {
            "needs_background": "light"
          }
        }
      ]
    },
    {
      "cell_type": "markdown",
      "source": [
        "## Como a renda varia em relação ao gênero"
      ],
      "metadata": {
        "id": "LanXD2kPe5qI"
      }
    },
    {
      "cell_type": "code",
      "source": [
        "df.groupby('Genero')['Renda Anual (k$)'].mean()"
      ],
      "metadata": {
        "colab": {
          "base_uri": "https://localhost:8080/"
        },
        "id": "xQI8CHnCfAaZ",
        "outputId": "0352e670-238c-42c4-8097-11c38799f675"
      },
      "execution_count": null,
      "outputs": [
        {
          "output_type": "execute_result",
          "data": {
            "text/plain": [
              "Genero\n",
              "Feminino     59.250000\n",
              "Masculino    62.227273\n",
              "Name: Renda Anual (k$), dtype: float64"
            ]
          },
          "metadata": {},
          "execution_count": 50
        }
      ]
    },
    {
      "cell_type": "code",
      "source": [
        "plt.figure(figsize=(10,7))\n",
        "sns.boxplot(x='Genero', y='Renda Anual (k$)', data=df);\n",
        "plt.show()"
      ],
      "metadata": {
        "colab": {
          "base_uri": "https://localhost:8080/",
          "height": 442
        },
        "id": "nYoG8TZLfGLn",
        "outputId": "660d255f-1a7d-4daa-9df6-6c3f568a1826"
      },
      "execution_count": null,
      "outputs": [
        {
          "output_type": "display_data",
          "data": {
            "text/plain": [
              "<Figure size 720x504 with 1 Axes>"
            ],
            "image/png": "[encoded data removed]"
          },
          "metadata": {
            "needs_background": "light"
          }
        }
      ]
    },
    {
      "cell_type": "markdown",
      "source": [
        "## Como a renda varia em relação a idade"
      ],
      "metadata": {
        "id": "9E0MsHvYfsQw"
      }
    },
    {
      "cell_type": "code",
      "source": [
        "df.groupby('Idade')['Renda Anual (k$)'].mean()"
      ],
      "metadata": {
        "id": "-FZBRDECfx5f"
      },
      "execution_count": null,
      "outputs": []
    },
    {
      "cell_type": "code",
      "source": [
        "plt.figure(figsize=(15,10))\n",
        "sns.boxplot(x='Idade', y='Renda Anual (k$)', data=df);\n",
        "plt.show()"
      ],
      "metadata": {
        "colab": {
          "base_uri": "https://localhost:8080/",
          "height": 606
        },
        "id": "UzC0tZxegGNO",
        "outputId": "e42df97d-ff1e-4f9c-f7af-e61f6d7d81c5"
      },
      "execution_count": null,
      "outputs": [
        {
          "output_type": "display_data",
          "data": {
            "text/plain": [
              "<Figure size 1080x720 with 1 Axes>"
            ],
            "image/png": "[encoded data removed]"
          },
          "metadata": {
            "needs_background": "light"
          }
        }
      ]
    }
  ]
}